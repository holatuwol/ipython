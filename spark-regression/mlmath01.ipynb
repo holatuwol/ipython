{
 "cells": [
  {
   "cell_type": "markdown",
   "metadata": {},
   "source": [
    "# Machine Learning Math 1"
   ]
  },
  {
   "cell_type": "code",
   "execution_count": null,
   "metadata": {
    "collapsed": true
   },
   "outputs": [],
   "source": [
    "%matplotlib inline\n",
    "\n",
    "import pandas as pd\n",
    "import numpy as np\n",
    "import matplotlib.pyplot as plt\n",
    "from sklearn.linear_model import LinearRegression\n",
    "\n",
    "plt.style.use('seaborn-colorblind')"
   ]
  },
  {
   "cell_type": "markdown",
   "metadata": {},
   "source": [
    "## Why Learn Machine Learning Math"
   ]
  },
  {
   "cell_type": "markdown",
   "metadata": {},
   "source": [
    "We are currently marketing DXP as a digital transformation platform that enables omni-channel experiences and enriches customer relationship insight.\n",
    "\n",
    "https://www.liferay.com/digital-experience-platform\n",
    "\n",
    "> Digital Transformation **Platform**\n",
    ">\n",
    "> * **Easy Integration**: Give customers secure access to information and apps hidden deep in your systems.\n",
    "> * **Modular Services**: Quickly implement and evolve digital strategy with reusable and resilient services.\n",
    "> * **Runtime Platform**: Support any digital business model with our resilient support for cloud and on-premise infrastructures.\n",
    ">\n",
    "> Omni Channel **Experiences**\n",
    ">\n",
    "> * **Modern Web**: Build web experiences with fast, usable interfaces customers will love.\n",
    "> * **Mobile**: Create native apps and mobile sites with push notifications and camera and GPS.\n",
    "> * **Digital Hybrid**: Enhance in-store experiences with digital context and services.\n",
    ">\n",
    "> Customer Relationship **Insight**\n",
    ">\n",
    "> * **Personalization and Segments**: Refine your understanding of your audience's needs and interests with targeted information and segment identification.\n",
    "> * **Analytics and Metrics**: Help users get what they need. Use data to evolve touch points and increase click-through and conversion.\n",
    "> * **Single View of the Customer**: Get a full understanding of what customers are doing across all touch points.\n",
    "\n",
    "To achieve the last (customer relationship insight), you need to understand what an insightful question might be and how to provide the answers in a way that they generate insight. Rephrased slightly, when building a DXP, its developers and maintainers should be able to answer the following three questions:\n",
    "\n",
    "1. What types of questions will our users try to ask with a DXP?\n",
    "2. How will users attempt to use DXP and its data to answer those questions?\n",
    "3. How will each of these different answers translate to insight?\n",
    "\n",
    "This series of workshops will focus on the second question, which itself centers around machine learning.\n",
    "\n",
    "You've likely heard about machine learning as a concept, and solutions rooted in machine learning dominate the subtopics listed in [Gartner's 2016 Hype Cycle](http://www.gartner.com/newsroom/id/3412017).\n",
    "\n",
    "We won't pretend that this series of workshops can provide a better crash course on performing machine learning than the existing Coursera, Udacity, or EdX courses on the topic. Instead, we'll look at machine learning at a more basic level, focusing on helping you better understand the questions that machine learning attempts to ask and the form that machine learning answers take.\n",
    "\n",
    "Many machine learning courses begin with linear regression, because the end result is very easy to visualize in two dimensions. An added benefit is that due to its simplicity, it forces you to think carefully about the form of the data. You end up learning that choosing different data formats influences both the reliability of your machine learning model and even changes what your machine learning model actually predicts.\n",
    "\n",
    "Given that 80% of data science involves getting your data into the right format (*data cleaning*), we too will start with linear regression. The focus in this first session will be on recognizing different types of variables and how these different variable types relate to *interpreting* a linear regression."
   ]
  },
  {
   "cell_type": "markdown",
   "metadata": {},
   "source": [
    "## Machine Learning Intuition"
   ]
  },
  {
   "cell_type": "markdown",
   "metadata": {},
   "source": [
    "### Plain English"
   ]
  },
  {
   "cell_type": "markdown",
   "metadata": {},
   "source": [
    "In a lot of computer science, we understand algorithms by assuming an oracle machine where you feed it with inputs and it produces the correct output every time. Essentially, black magic hiding inside of black boxes.\n",
    "\n",
    "* [Oracle Machine](https://en.wikipedia.org/wiki/Oracle_machine)\n",
    "\n",
    "Can we create something that isn't a black box that will produce the correct output every time? We can't be sure. Maybe no oracle machine can be built. Maybe building such an oracle machine is extremely complex and time-consuming.\n",
    "\n",
    "What if we could step back and ask the question, \"What if an almost-oracle is good enough?\"\n",
    "\n",
    "At a very abstract level, if we have many data points, we can theoretically summarize the data points with a model that says something meaningful or illuminating about the data. While it isn't necessarily 100% correct, this model can be used to understand both the data points that we've seen as well as data points we've not yet seen.\n",
    "\n",
    "* [Obligatory George Box quote](https://en.wikipedia.org/wiki/All_models_are_wrong)\n",
    "\n",
    "The process of creating these almost-oracles based on data points is known as machine learning.\n",
    "\n",
    "In machine learning, you choose some class of models you have reason to believe will provide you with almost correct outputs given what you understand about the inputs. You feed your model with the input data, you provide some hints, and then you ask the model to train itself. By observing the outputs it creates, the model adjusts itself to provide increasingly correct answers as outputs.\n",
    "\n",
    "* [The Great AI Awakening](http://www.nytimes.com/2016/12/14/magazine/the-great-ai-awakening.html)"
   ]
  },
  {
   "cell_type": "markdown",
   "metadata": {},
   "source": [
    "### Math English"
   ]
  },
  {
   "cell_type": "markdown",
   "metadata": {},
   "source": [
    "Let's start by pretending that you want to describe an object, say a house. To create this description, you will want to capture many aspects of the house. You might record values like the size of the house, the size of the backyard, the number of bedrooms and bathrooms in the house. Each of these values that you choose to collect is referred to as a *feature*.\n",
    "\n",
    "Assume you have $m$ different objects that you've described with $n$ features. You can label the specific feature of a specific object as $x_{i,j}$, where $i$ corresponds to the ID of the object, and $j$ corresponds to the index of the feature. This allows us to represent these $m$ data points as an $m \\times n$ matrix.\n",
    "\n",
    "$$\n",
    "\\begin{bmatrix}\n",
    "x_{1,1} & \\cdots & x_{1,n} \\\\\n",
    "x_{2,1} & \\cdots & x_{2,n} \\\\\n",
    "\\vdots & \\ddots & \\vdots \\\\\n",
    "x_{m,1} & \\cdots & x_{m,n}\n",
    "\\end{bmatrix}\n",
    "$$\n",
    "\n",
    "Let's assume that there is an additional feature that is intuitively related to the features we collected. In our case, it might be the price of the house in question. Because we have $m$ different values for this additional feature, we can represent these as an $m \\times 1$ column vector.\n",
    "\n",
    "$$\n",
    "\\begin{bmatrix}\n",
    "y_1 \\\\\n",
    "y_2 \\\\\n",
    "\\vdots \\\\\n",
    "y_m\n",
    "\\end{bmatrix}\n",
    "$$\n",
    "\n",
    "So to repeat what we just said about the almost-oracles in a more mathematical way, machine learning is the process of taking the input matrix, performing various [matrix operations](https://en.wikipedia.org/wiki/Matrix_operation), and ultimately ending up with an output matrix. Taken together, the transformations serve as the almost-oracle."
   ]
  },
  {
   "cell_type": "markdown",
   "metadata": {},
   "source": [
    "## Define the Task"
   ]
  },
  {
   "cell_type": "markdown",
   "metadata": {},
   "source": [
    "Now that you know what machine learning is, the next step is to recognize that machine learning is a tool that serves to answer important questions. Therefore, the first step in machine learning is to decide what question you wish to answer.\n",
    "\n",
    "To help you understand what these questions might look like in the real world, let's do some roleplay.\n",
    "\n",
    "Something that happens occasionally in dramas is there will be an evil corporation that is looking to buy out neighborhoods in order to construct resorts or hotels that will pull in tourists and make lots of money for the corporation.\n",
    "\n",
    "* [Princess Jellyfish](https://myanimelist.net/anime/8129/Kuragehime)\n",
    "\n",
    "Imagine that you are an executive at one such evil hotel corporation, Hotelray.\n",
    "\n",
    "You'd like to find places for your hotels that will make you a lot of money (surrounded by high value homes or tourist attractions) but wouldn't cost you very much money in terms of construction (low cost of labor, relatively inexpensive to buy out)."
   ]
  },
  {
   "cell_type": "markdown",
   "metadata": {},
   "source": [
    "## Operationalize the Task"
   ]
  },
  {
   "cell_type": "markdown",
   "metadata": {},
   "source": [
    "The next step is to identify what it is that you wish to predict in order to answer your question and identify data that you can bring together that might help in this prediction. This is known as *operationalizing the question*.\n",
    "\n",
    "* [Operationalization](https://en.wikipedia.org/wiki/Operationalization)\n",
    "\n",
    "We can answer a substantial amount of Hotelray's business question by simply finding out what the prices of the houses are. Unfortunately, not every house will publish their market value, and sending out an appraiser to every house of every possible neighborhood would be extremely expensive and most likely unwelcomed by the current residents.\n",
    "\n",
    "However, an \"almost-oracle\" that had reasonable guesses about the price of every home would be good enough.\n",
    "\n",
    "We're in luck! It turns out that we have data from the [House Sales in King County, USA](https://www.kaggle.com/harlfoxem/housesalesprediction), which is available from Kaggle data sets. If we can create a model that had reasonable guesses about the price of every home in that data set, it might also have reasonable guesses about every house in every neighborhood we're interested in.\n",
    "\n",
    "I've taken advantage of the [CC0: Public Domain License](https://creativecommons.org/publicdomain/zero/1.0/) which permits copying the data set for any purpose, and I've pushed it to the static hosting service of [WeDeploy](https://www.wedeploy.com/) so it's accessible without sign-in."
   ]
  },
  {
   "cell_type": "code",
   "execution_count": null,
   "metadata": {
    "collapsed": false
   },
   "outputs": [],
   "source": [
    "df = pd.read_csv('http://hosting.mlmath.wedeploy.io/kc_house_data.csv')"
   ]
  },
  {
   "cell_type": "markdown",
   "metadata": {},
   "source": [
    "To summarize, our goal now is to create a model that will predict the prices of houses. From the machine learning perspective, we'd like to simply present the data to the model, and the model will figure out the appropriate way to guess at the price of our houses.\n",
    "\n",
    "These are the features we have available:"
   ]
  },
  {
   "cell_type": "code",
   "execution_count": null,
   "metadata": {
    "collapsed": false
   },
   "outputs": [
    {
     "data": {
      "text/plain": [
       "Index(['id', 'date', 'price', 'bedrooms', 'bathrooms', 'sqft_living',\n",
       "       'sqft_lot', 'floors', 'waterfront', 'view', 'condition', 'grade',\n",
       "       'sqft_above', 'sqft_basement', 'yr_built', 'yr_renovated', 'zipcode',\n",
       "       'lat', 'long', 'sqft_living15', 'sqft_lot15'],\n",
       "      dtype='object')"
      ]
     },
     "execution_count": null,
     "metadata": {},
     "output_type": "execute_result"
    }
   ],
   "source": [
    "df.columns"
   ]
  },
  {
   "cell_type": "markdown",
   "metadata": {},
   "source": [
    "## Define Incorrectness"
   ]
  },
  {
   "cell_type": "markdown",
   "metadata": {},
   "source": [
    "So, let's take a quick step back. You will be asking the model to train itself, and it will provide increasingly correct answers as outputs. How does the model know what to do in order to know how to get increasing correctness?\n",
    "\n",
    "Essentially, it knows because you have a definition of \"degree of incorrectness\". In machine learning, this is referred to as a *cost function*.\n",
    "\n",
    "* [Machine Learning Yearning, Chapters 8-9](https://gallery.mailchimp.com/dc3a7ef4d750c0abfc19202a3/files/Machine_Learning_Yearning_V0.5_01.pdf)\n",
    "\n",
    "Intuitively, the cost function provides a way for the model to detect whether it got better or if it got worse.\n",
    "\n",
    "There are a variety of considerations that you take into account when saying one model is better than another, but one of the more obvious elements of the cost function is the difference between what the model guessed $\\hat{y_i}$ as compared to the true correct answer $y_i$.\n",
    "\n",
    "The notion of a guess can vary between machine learning models. Some guess at a number in the range $(-\\infty, +\\infty)$. Some guess in a more bounded range, such as $[0, 1]$ or $[-1, 1]$. Still others might have multiple outputs. In all cases, you define your sense of right and wrong for any given example, and then you apply a function (sum and average are common) and declare that to be the degree of incorrectness of the model.\n",
    "\n",
    "The simplest definition of right and wrong is binary. In this world, every incorrect answer is weighted equally. Either you got it exactly right or you got it wrong. As a cost function, this is known as **zero-one loss**.\n",
    "\n",
    "$$\n",
    "L(y_i, \\hat{y_i}) =\n",
    "\\begin{cases}\n",
    "0 & y = \\hat{y_i} \\\\\n",
    "1 & y \\ne \\hat{y_i}\n",
    "\\end{cases}\n",
    "$$\n",
    "\n",
    "Another simple definition is to take the absolute value of the difference between $y_i$ and $\\hat{y_i}$. In this world, every incorrect answer is weighted according to how far away it was from the true value. As a cost function, this is known as **absolute loss**.\n",
    "\n",
    "$$\n",
    "L(y_i, \\hat{y_i}) = | y_i - \\hat{y_i} |\n",
    "$$\n",
    "\n",
    "One of the more common loss functions is to take the square of the difference between $y_i$ and $\\hat{y_i}$. In this world, the farther you are away from the true value, the more dramatic the penalty for that incorrectness. As a cost function, this is known as **squared loss**.\n",
    "\n",
    "$$\n",
    "L(y_i, \\hat{y_i}) = ( y_i - \\hat{y_i} )^2\n",
    "$$"
   ]
  },
  {
   "cell_type": "markdown",
   "metadata": {},
   "source": [
    "### Checkpoint: Define Incorrectness"
   ]
  },
  {
   "cell_type": "markdown",
   "metadata": {},
   "source": [
    "In our case, we are predicting the prices of houses. We don't expect to have this guess be perfect, but we'd like to penalize guesses that are way off.\n",
    "\n",
    "Because we wish to penalize guesses differently based on how far off they are, we rule out zero-one loss. Because we would like our loss function to penalize really wrong guesses more heavily, **squared loss** makes more sense for us than absolute loss.\n",
    "\n",
    "After summing the squared losses, we'll wind up with the sum of squared errors, or SSE.\n",
    "\n",
    "$$\n",
    "\\text{SSE} = \\sum\\limits_{i=1}^m(y_i - \\hat{y_i})^2\n",
    "$$\n",
    "\n",
    "However, this number is huge, and we aren't able to relate it back to what it is that we're predicting, so we don't have a good sense of just how wrong we are, just that smaller numbers are preferred. How can we fix that?\n",
    "\n",
    "The first transformation is to compute the average of these squared differences rather than just their sum. This will give us the average of the squared errors, which reins in the values so that even if you add more data points, the value does not increase if the errors are about the same across the board. This transformation is known as the mean-square error, or MSE.\n",
    "\n",
    "$$\n",
    "\\text{MSE} = \\frac{\\text{SSE}}{m} = \\frac{1}{m} \\sum\\limits_{i=1}^m(y_i - \\hat{y_i})^2\n",
    "$$\n",
    "\n",
    "If we have the average squared error, then if we take the square root, we have something that we can relate to our output value in a more obvious way. This transformation is known as root-mean-square error, or RMSE.\n",
    "\n",
    "$$\n",
    "\\text{RMSE} = \\sqrt{\\text{MSE}} = \\sqrt{\\frac{1}{m} \\sum\\limits_{i=1}^m(y_i - \\hat{y_i})^2}\n",
    "$$\n",
    "\n",
    "This is the number we will use to define the incorrectness of our model."
   ]
  },
  {
   "cell_type": "markdown",
   "metadata": {},
   "source": [
    "## Baseline Model"
   ]
  },
  {
   "cell_type": "markdown",
   "metadata": {},
   "source": [
    "Once you've defined a cost function, all machine learning follows with the following question. What is the simplest almost-oracle I can think of related to this degree of incorrectness?\n",
    "\n",
    "* [How to Get Baseline Results and Why They Matter](http://machinelearningmastery.com/how-to-get-baseline-results-and-why-they-matter/)\n",
    "\n",
    "Answering this question gives you a meaningful starting point and it allows you to say whether your self-adjusting almost-oracle is actually any better than the simplest almost-oracle.\n",
    "\n",
    "The simplest almost-oracle in many cases is simply always guessing the exact same value, no matter what the input values are. For that reason, you will often choose an almost-oracle that is equivalent to the central tendency measure connected to your definition of incorrectness.\n",
    "\n",
    "* [Modes, Medians, Means: A Unifying Perspective](http://www.johnmyleswhite.com/notebook/2013/03/22/modes-medians-and-means-an-unifying-perspective/)\n",
    "\n",
    "To summarize the article above:\n",
    "\n",
    "* For zero-one loss, you would choose the mode of the output values as the baseline model.\n",
    "* For absolute loss, you would choose the median of the output values.\n",
    "* For squared loss, which encompasses the [sum of squared errors](https://en.wikipedia.org/wiki/Residual_sum_of_squares), the [mean squared error](https://en.wikipedia.org/wiki/Mean_squared_error), or the [root-mean-square error](https://en.wikipedia.org/wiki/Root-mean-square_deviation), you would choose the mean of the output values."
   ]
  },
  {
   "cell_type": "markdown",
   "metadata": {},
   "source": [
    "### Checkpoint: Create the Baseline Model"
   ]
  },
  {
   "cell_type": "markdown",
   "metadata": {},
   "source": [
    "First, let's create our baseline model by computing the mean of all prices."
   ]
  },
  {
   "cell_type": "code",
   "execution_count": null,
   "metadata": {
    "collapsed": false
   },
   "outputs": [
    {
     "data": {
      "text/plain": [
       "540088.14176652941"
      ]
     },
     "execution_count": null,
     "metadata": {},
     "output_type": "execute_result"
    }
   ],
   "source": [
    "baselineModel = df['price'].mean()\n",
    "\n",
    "baselineModel"
   ]
  },
  {
   "cell_type": "markdown",
   "metadata": {},
   "source": [
    "To put what this baseline model means in plain English, we have now created a model that will simply always guess that the price of the house is \\$540,088 USD, no matter what.\n",
    "\n",
    "Now that we have our baseline model, we'll want to compute the incorrectness of this baseline model. Since we chose RMSE as our degree of incorrectness measure, all we have to do is compute it. The first step is to find out how off we are, which we can compute simply by subtracting the true price $y_i$ and our model's guess $\\hat{y_i}$."
   ]
  },
  {
   "cell_type": "code",
   "execution_count": null,
   "metadata": {
    "collapsed": true
   },
   "outputs": [],
   "source": [
    "baselineModelPredictions = np.repeat([baselineModel], len(df))\n",
    "baselineModelError = df['price'] - baselineModelPredictions"
   ]
  },
  {
   "cell_type": "markdown",
   "metadata": {},
   "source": [
    "If we square each of these errors and compute the mean of the squared values, we will have the mean squared error, MSE. If we compute the square root of that, then we have the root mean squared error, RMSE."
   ]
  },
  {
   "cell_type": "code",
   "execution_count": null,
   "metadata": {
    "collapsed": false
   },
   "outputs": [
    {
     "data": {
      "text/plain": [
       "367118.70318137232"
      ]
     },
     "execution_count": null,
     "metadata": {},
     "output_type": "execute_result"
    }
   ],
   "source": [
    "baselineModelSquaredError = baselineModelError ** 2\n",
    "baselineModelRMSE = np.sqrt(baselineModelSquaredError.mean())\n",
    "baselineModelRMSE"
   ]
  },
  {
   "cell_type": "markdown",
   "metadata": {},
   "source": [
    "As a side note, in machine learning, it's important that you do not create a model based on the whole data set and then re-evaluate based on the same data set you used to create the model, which is what we did just now in creating a baseline model.\n",
    "\n",
    "We're going to ignore that formality until we can explain the math behind why it's important, which won't be for a few more lessons."
   ]
  },
  {
   "cell_type": "markdown",
   "metadata": {},
   "source": [
    "## Linear Model Overview"
   ]
  },
  {
   "cell_type": "markdown",
   "metadata": {},
   "source": [
    "When you choose linear regression as a model, you essentially say that the output variable is a linear combination of the input variables. More explicitly, we have a vector of *weights* that contains $n$ entries (for each of the features) and an additional intercept term $\\beta_0$:\n",
    "\n",
    "$$\n",
    "\\begin{bmatrix}\n",
    "\\beta_0 \\\\\n",
    "\\vdots \\\\\n",
    "\\beta_n\n",
    "\\end{bmatrix}\n",
    "$$\n",
    "\n",
    "If we were to take the numerical value we gave to each feature $x_{i,j}$ and multiply it by the corresponding $\\beta_j$ and then sum these values along with the intercept term $\\beta_0$, we have an estimate of the result variable $\\hat{y_i}$.\n",
    "\n",
    "$$\n",
    "\\hat{y_i} =\n",
    "\\begin{bmatrix}\n",
    "1 & x_{i,1} & \\cdots & x_{i,n}\n",
    "\\end{bmatrix}\n",
    "\\times\n",
    "\\begin{bmatrix}\n",
    "\\beta_0 \\\\\n",
    "\\vdots \\\\\n",
    "\\beta_n\n",
    "\\end{bmatrix}\n",
    "$$\n",
    "\n",
    "Choosing a linear regression model is equivalent to saying that we can estimate the output vector by transforming the input matrix with a single matrix multiplication.\n",
    "\n",
    "$$\n",
    "\\begin{bmatrix}\n",
    "\\hat{y_1} \\\\\n",
    "\\hat{y_2} \\\\\n",
    "\\vdots \\\\\n",
    "\\hat{y_m}\n",
    "\\end{bmatrix}\n",
    "=\n",
    "\\begin{bmatrix}\n",
    "1 & x_{1,1} & \\cdots & x_{1,n} \\\\\n",
    "1 & x_{2,1} & \\cdots & x_{2,n} \\\\\n",
    "\\vdots & \\vdots & \\ddots & \\vdots \\\\\n",
    "1 & x_{m,1} & \\cdots & x_{m,n}\n",
    "\\end{bmatrix}\n",
    "\\times\n",
    "\\begin{bmatrix}\n",
    "\\beta_0 \\\\\n",
    "\\vdots \\\\\n",
    "\\beta_n\n",
    "\\end{bmatrix}\n",
    "$$"
   ]
  },
  {
   "cell_type": "markdown",
   "metadata": {},
   "source": [
    "## Linear Model Assumptions"
   ]
  },
  {
   "cell_type": "markdown",
   "metadata": {},
   "source": [
    "Some of the basic assumptions you make with a linear model are summarized in the following discussion.\n",
    "\n",
    "* [Linear Models](http://www.stat.berkeley.edu/~aditya/resources/LectureFOUR.pdf)\n",
    "\n",
    "We'll go into the more advanced understanding of these assumptions in our next lesson, but for now, we will only rely on the simplest assumption, which is that we assume that the input variables $x_{i,j}$ are non-random and that the result variables $y_i$ are random.\n",
    "\n",
    "If the idea of a \"random variable\" as a statistical concept is unfamiliar to you, it's good to do a quick refresher of drawing samples from a probability distribution.\n",
    "\n",
    "* [Chapter 1 of Introduction to Stochastic Processes](https://www.ma.utexas.edu/users/gordanz/notes/introduction_to_stochastic_processes.pdf)\n",
    "\n",
    "Essentially, we assume that our measurements of each of the $x_{i,j}$ variables are precise values and are not random, but $y_i$ will vary from the model estimate $\\hat{y_i}$ by an error term $\\epsilon_i$.\n",
    "\n",
    "In an ideal world where all of the linear model assumptions are satisfied, you can say something special about $\\epsilon_i$, which is that while we don't actually expect our guesses to be exactly right, we will be wrong in a way that looks like a zero-mean random variable.\n",
    "\n",
    "* [White Noise](https://en.wikipedia.org/wiki/White_noise#Mathematical_definitions)\n",
    "\n",
    "We aren't going to assume ideal world today, so what we will instead say for now is that if we know that our $x_{i,j}$ values are non-random and our $y_i$ values are random, we can say that the true $y_i$ values relate to our model's guesses $\\hat{y_i}$ values in the following way, though we know very little about the nature of $e_i$.\n",
    "\n",
    "$$\n",
    "\\begin{bmatrix}\n",
    "y_1 \\\\\n",
    "y_2 \\\\\n",
    "\\vdots \\\\\n",
    "y_m\n",
    "\\end{bmatrix}\n",
    "=\n",
    "\\begin{bmatrix}\n",
    "\\hat{y_1} \\\\\n",
    "\\hat{y_2} \\\\\n",
    "\\vdots \\\\\n",
    "\\hat{y_m}\n",
    "\\end{bmatrix}\n",
    "+\n",
    "\\begin{bmatrix}\n",
    "\\epsilon_1 \\\\\n",
    "\\epsilon_2 \\\\\n",
    "\\vdots \\\\\n",
    "\\epsilon_m\n",
    "\\end{bmatrix}\n",
    "$$"
   ]
  },
  {
   "cell_type": "markdown",
   "metadata": {},
   "source": [
    "## Indicator/Boolean Variables"
   ]
  },
  {
   "cell_type": "markdown",
   "metadata": {},
   "source": [
    "Our journey begins with the idea of an indicator variable, which is a variable whose only values are 0 and 1. If you're coming from a programming background, you can think of these as `false` and `true`, respectively.\n",
    "\n",
    "When you include a boolean or indicator variable $x_{i,j}$ in a linear model, what you are effectively saying is that, all else being equal, we expect that activating the indicator value (setting it to 1 instead of 0) will result in a change in $y_i$ equal to the coefficient $\\beta_j$."
   ]
  },
  {
   "cell_type": "markdown",
   "metadata": {},
   "source": [
    "### Checkpoint: Indicator/Boolean Variables"
   ]
  },
  {
   "cell_type": "markdown",
   "metadata": {},
   "source": [
    "In our data set, the only boolean indicator variable is `waterfront`, which represents whether the house sits adjacent to a body of water.\n",
    "\n",
    "Before you include a boolean indicator variable, you'll want to know if it there is actually a difference between the result value when the variable is 0 vs. the result value when the variable is 1.\n",
    "\n",
    "One way to do that is to look at the quantiles (also known as percentiles) after we've divided the data into waterfront properties and non-waterfront properties.\n",
    "\n",
    "* [Percentile](http://www.r-tutor.com/elementary-statistics/numerical-measures/percentile)"
   ]
  },
  {
   "cell_type": "code",
   "execution_count": null,
   "metadata": {
    "collapsed": false
   },
   "outputs": [
    {
     "data": {
      "image/png": "[encoded data removed]",
      "text/plain": []
     },
     "metadata": {},
     "output_type": "display_data"
    }
   ],
   "source": [
    "quantiles = np.linspace(0, 0.95, 20)\n",
    "\n",
    "for key, grp in df.groupby(['waterfront']):\n",
    "    grp['price'].quantile(quantiles).plot(label='waterfront = %d' % key)\n",
    "\n",
    "plt.legend(loc='best')\n",
    "plt.show()"
   ]
  },
  {
   "cell_type": "markdown",
   "metadata": {},
   "source": [
    "From the raw quantile information, we can see that the data for non-waterfront properties shows a median of \\$450,000 (the 0.5 or 50% quantile), while the prices for waterfront properties have a median of \\$1,400,000 USD. The differences at other quantiles is also dramatic.\n",
    "\n",
    "Another visualization which might help us understand the distribution of the prices between waterfront properties and non-waterfront properties is to instead create a histogram of all the price values, with each value of the `waterfront` treated as a facet value."
   ]
  },
  {
   "cell_type": "code",
   "execution_count": null,
   "metadata": {
    "collapsed": false
   },
   "outputs": [
    {
     "data": {
      "image/png": "[encoded data removed]",
      "text/plain": []
     },
     "metadata": {},
     "output_type": "display_data"
    }
   ],
   "source": [
    "for key, grp in df.groupby(['waterfront']):\n",
    "    grp['price'].plot(kind='kde', label='waterfront = %d' % key)\n",
    "\n",
    "plt.legend(loc='best')\n",
    "plt.show()"
   ]
  },
  {
   "cell_type": "markdown",
   "metadata": {},
   "source": [
    "From the visualization, we see that the concentration at the lower values is more pronounced for non-waterfront properties than for waterfront properties, which also gives us a sense that the two types of properties have fundamental price differences.\n",
    "\n",
    "Combining these two visualizations of how the price relates to whether or not a house is a waterfront property gives us confidence that there is some amount of $y_i$ that is explained by our $x_{i,j}$, and our model is likely to improve if we include the variable."
   ]
  },
  {
   "cell_type": "markdown",
   "metadata": {},
   "source": [
    "## Linear Regression, Take 1"
   ]
  },
  {
   "cell_type": "markdown",
   "metadata": {},
   "source": [
    "When adding the `waterfront` variable to our regression, we effectively have the following regression, where $\\beta_1$ is the change in $y_i$ we expect from activating the waterfront indicator variable, all else being equal, and $x_{i,1}$ is the value of our waterfront indicator variable.\n",
    "\n",
    "$$\n",
    "y_i = \\widehat{\\beta_0} + \\widehat{\\beta_1} x_{i,1} + \\widehat{\\epsilon_i}\n",
    "$$"
   ]
  },
  {
   "cell_type": "code",
   "execution_count": null,
   "metadata": {
    "collapsed": false
   },
   "outputs": [
    {
     "data": {
      "text/plain": [
       "(531563.59981351998, 1130312.4247263379)"
      ]
     },
     "execution_count": null,
     "metadata": {},
     "output_type": "execute_result"
    }
   ],
   "source": [
    "take1Model = LinearRegression(fit_intercept=True)\n",
    "take1Model.fit(X=df[['waterfront']], y=df['price'])\n",
    "\n",
    "take1Model.intercept_, *take1Model.coef_"
   ]
  },
  {
   "cell_type": "markdown",
   "metadata": {},
   "source": [
    "Up until now, we haven't mentioned $\\beta_0$ at all. So you might be wondering, aside from resembling an intercept term in a standard linear equation of $y = mx + b$, what does $\\beta_0$ mean in English?\n",
    "\n",
    "Think back to the matrix multiplication used to define $\\hat{y_i}$.\n",
    "\n",
    "$$\n",
    "\\hat{y_i} =\n",
    "\\begin{bmatrix}\n",
    "1 & x_{i,1} & \\cdots & x_{i,n}\n",
    "\\end{bmatrix}\n",
    "\\times\n",
    "\\begin{bmatrix}\n",
    "\\beta_0 \\\\\n",
    "\\vdots \\\\\n",
    "\\beta_n\n",
    "\\end{bmatrix}\n",
    "$$\n",
    "\n",
    "It follows from the matrix multiplication that $\\beta_0$ is the value we will predict for $\\hat{y_i}$ when all of the $x_{i,j}$ values are 0. In this specific example, it is the value we will predict as the price of a house when it is not a waterfront property.\n",
    "\n",
    "Now using one housing feature (waterfront or not waterfront), we have expanded our regression model to produce variable results.\n",
    "This is a slight improvement to the previous baseline model that will always guess the same value (the output is always the mean,\\$540,088 USD).\n",
    "It will now output two values when guessing housing price, based on whether the house is on the waterfront of not.\n",
    "\n",
    "Guess for a non-waterfront house:\n",
    "\n",
    "$$\n",
    "y_i = \\widehat{\\beta_0} + \\widehat{\\epsilon_i}\n",
    "$$\n",
    "\n",
    "Guess for a waterfront house:\n",
    "$$\n",
    "y_i = \\widehat{\\beta_0} + \\widehat{\\beta_1} x_{i,1} + \\widehat{\\epsilon_i}\n",
    "$$\n",
    "\n",
    "\n",
    "So what does this model actually say? It says that if a house is not a waterfront property, the model predicts that it will be \\$531,563 USD, and if it is a waterfront property, the model predicts that it will be worth an additional \\$1,130,312.\n",
    "\n",
    "However, our regression is not that helpful because there many other features that could add or detract from a house's value.\n",
    "This leads into the assessment of the model.\n",
    "\n",
    "Next, we evaluate the model's performance compared to the baseline model."
   ]
  },
  {
   "cell_type": "code",
   "execution_count": null,
   "metadata": {
    "collapsed": false
   },
   "outputs": [
    {
     "data": {
      "text/plain": [
       "(367118.70318137232, 353855.07535782689)"
      ]
     },
     "execution_count": null,
     "metadata": {},
     "output_type": "execute_result"
    }
   ],
   "source": [
    "take1ModelPredictions = take1Model.predict(X=df[['waterfront']])\n",
    "take1ModelError = df['price'] - take1ModelPredictions\n",
    "\n",
    "take1ModelSquaredError = take1ModelError ** 2\n",
    "take1ModelRMSE = np.sqrt(take1ModelSquaredError.mean())\n",
    "\n",
    "baselineModelRMSE, take1ModelRMSE"
   ]
  },
  {
   "cell_type": "markdown",
   "metadata": {},
   "source": [
    "The RMSE is lowered very slightly. Since we're using RMSE as our measure of whether the model is improving, by our definition, our single-variable linear model using a single indicator variable provides a very slight improvement over our baseline model."
   ]
  },
  {
   "cell_type": "markdown",
   "metadata": {},
   "source": [
    "## Meaningful Numeric Variables"
   ]
  },
  {
   "cell_type": "markdown",
   "metadata": {},
   "source": [
    "Our journey continues with the idea of numeric variables, which is a variable that has a much wider range than just 0 and 1 (it might even be all floating point numbers between 0 and 1). However, just because you have lots of values doesn't mean that all of those values are meaningful as numbers in the context of regression.\n",
    "\n",
    "If a value $x_{i,j}$ is meaningful as a number in the context of regression, that means that when we include the numeric value $x_{i,j}$ in a linear model, all else being equal, we expect that an increase $\\delta_k$ in $x_{i,j}$ will increase the value of $y_i$ by $\\delta_k \\beta_j$ for all values of $\\delta_k$.\n",
    "\n",
    "More explicitly, if we choose some $\\delta_k$ to use as our increment, every time we increase $x_{i,j}$ by that increment $\\delta_k$, we expect $y_i$ to change by the same amount $\\delta_k \\beta_j$ with each increment, subject to white noise. This constant increase for each unit increase is what makes linear regression \"linear\"."
   ]
  },
  {
   "cell_type": "markdown",
   "metadata": {},
   "source": [
    "### Checkpoint: Meaningful Numeric Variables"
   ]
  },
  {
   "cell_type": "code",
   "execution_count": null,
   "metadata": {
    "collapsed": true
   },
   "outputs": [],
   "source": []
  },
  {
   "cell_type": "markdown",
   "metadata": {},
   "source": [
    "## Less Meaningful Numeric Variables"
   ]
  },
  {
   "cell_type": "markdown",
   "metadata": {},
   "source": []
  },
  {
   "cell_type": "markdown",
   "metadata": {},
   "source": [
    "### Checkpoint: Less Meaningful Numeric Variables"
   ]
  },
  {
   "cell_type": "code",
   "execution_count": null,
   "metadata": {
    "collapsed": true
   },
   "outputs": [],
   "source": []
  },
  {
   "cell_type": "markdown",
   "metadata": {},
   "source": [
    "## Linear Regression, Take 2"
   ]
  },
  {
   "cell_type": "markdown",
   "metadata": {},
   "source": [
    "Let's go ahead and expand our basic linear regression model to include $n$ variables (other variables could be features such as bedrooms, bathrooms, sqft_living, sqft_lot, floors, condition, yr_built, yr_renovated, zipcode, etc).\n",
    "\n",
    "$$\n",
    "  y_i = \\widehat{\\beta_0} + \\widehat{\\beta_1} x_1 + \\dotsb + \\widehat{\\beta_n} x_n + \\widehat{\\epsilon_i}\n",
    "$$\n",
    "Starting off with some factors that we instictively know add and dectract value, let's first consider the square footage, bedrooms, and bathrooms."
   ]
  },
  {
   "cell_type": "markdown",
   "metadata": {},
   "source": [
    "## Really Wrong Answers"
   ]
  },
  {
   "cell_type": "markdown",
   "metadata": {},
   "source": [
    "After you've got your first model that isn't a baseline model and you've determined that you've improved, the next step is to decide whether you should keep going or if you can stop (if you're familiar with blackjack, it's essentially like deciding whether you should hit or stand).\n",
    "\n",
    "* [Machine Learning Yearning, Chapter 13](https://gallery.mailchimp.com/dc3a7ef4d750c0abfc19202a3/files/Machine_Learning_Yearning_V0.5_02.pdf)\n",
    "* [Machine Learning Yearning, Chapter 14](https://gallery.mailchimp.com/dc3a7ef4d750c0abfc19202a3/files/Machine_Learning_Yearning_V0.5_03.pdf)\n",
    "\n",
    "In this process, you look at samples where you scored poorly on your cost function and ask, \"How can I update my model so that it doesn't do poorly on these examples?\"\n",
    "\n",
    "Perhaps there are features that you might simply be missing in your model. Perhaps you should adjust your cost function or more aggressively sample rare but important data points from your data set. Perhaps you simply need more examples with specific characteristics.\n",
    "\n",
    "Put more explicitly, after each incremental improvement of your machine learning model, it's a good idea to evaluate your model in a way that's related to your cost function and determine if additional model refinement is achievable with the data you already have, and how much effort is involved in acquiring new data if it's not achievable."
   ]
  },
  {
   "cell_type": "markdown",
   "metadata": {},
   "source": [
    "### Checkpoint: Really Wrong Answers"
   ]
  },
  {
   "cell_type": "code",
   "execution_count": null,
   "metadata": {
    "collapsed": true
   },
   "outputs": [],
   "source": []
  },
  {
   "cell_type": "markdown",
   "metadata": {},
   "source": [
    "## Transformed Variables"
   ]
  },
  {
   "cell_type": "markdown",
   "metadata": {},
   "source": []
  },
  {
   "cell_type": "markdown",
   "metadata": {},
   "source": [
    "### Checkpoint: Transformed Variables"
   ]
  },
  {
   "cell_type": "code",
   "execution_count": null,
   "metadata": {
    "collapsed": true
   },
   "outputs": [],
   "source": []
  },
  {
   "cell_type": "markdown",
   "metadata": {},
   "source": [
    "## Interaction Terms"
   ]
  },
  {
   "cell_type": "markdown",
   "metadata": {},
   "source": [
    "* [Competent Jerks, Loveable Jerks](https://hbr.org/2005/06/competent-jerks-lovable-fools-and-the-formation-of-social-networks)"
   ]
  },
  {
   "cell_type": "markdown",
   "metadata": {},
   "source": [
    "### Checkpoint: Interaction Terms"
   ]
  },
  {
   "cell_type": "code",
   "execution_count": null,
   "metadata": {
    "collapsed": true
   },
   "outputs": [],
   "source": []
  },
  {
   "cell_type": "markdown",
   "metadata": {},
   "source": [
    "## Linear Regression, Take 3"
   ]
  },
  {
   "cell_type": "markdown",
   "metadata": {},
   "source": [
    "$$\n",
    "y_i = \\widehat{\\beta_0} + \\widehat{\\beta_1} x_1 + \\dotsb + \\widehat{\\beta_n} x_n + \\widehat{\\epsilon_i}\n",
    "$$"
   ]
  },
  {
   "cell_type": "code",
   "execution_count": null,
   "metadata": {
    "collapsed": true
   },
   "outputs": [],
   "source": []
  },
  {
   "cell_type": "markdown",
   "metadata": {},
   "source": [
    "## Reframing Our Story"
   ]
  },
  {
   "cell_type": "markdown",
   "metadata": {},
   "source": [
    "Let's pretend you have tens of thousands of documents stored in a search index. When an end user enters a search query, what you'd like to do is list what will hopefully be a subset of those documents in a way that will make them feel relevant to the end user.\n",
    "\n",
    "We can answer a substantial amount of the search question by simply filtering the documents down to just the subset that contains the terms entered by the end user. However, there may be thousands of documents that match, and you can't just blindly provide all the documents, because there's no way for the end user to consume that much information!\n",
    "\n",
    "One solution that stands out is that maybe you can *summarize* them. Techniques include presenting summary statistics as numbers, presenting data visualizations that condense the results into graphs or other forms that humans can more readily interpret (such as rendering addresses as points on a map), or allowing the end user to \"drill down\" into the search results with facets.\n",
    "\n",
    "However, this requires you to know a lot about the documents you're getting back, because as you've seen through this example of linear regression, how you can summarize the information depends entirely on what kind of data it is.\n",
    "\n",
    "What if we wanted a more generic way to respond to almost all queries? One such generic way to respond to the query is to provide the documents in descending order of *relevance*.\n",
    "\n",
    "Relevance, however, is an abstract concept. You can't actually have the end user tell how they feel about each of your tens of thousands of documents, and even if you could, those values aren't static over time. If I searched for \"liferay\" back in 2007, I might expect to get results back on how to install Liferay Portal 4.4. If I searched for \"liferay\" today, I'd think that same document is not at all relevant to my interests.\n",
    "\n",
    "So what can we do instead? We can create a *proxy* for relevance which we will call a *score*.\n",
    "\n",
    "To summarize, our goal now is to create a model that will predict the appropriate *score* for each document, given the context of the search query that the user entered. In Elasticsearch, it turns out that this model is very close to being a *linear combination* of a variety of variables derived by comparing the query to each of the fields in the document.\n",
    "\n",
    "* [Elasticsearch Scoring Theory](https://www.elastic.co/guide/en/elasticsearch/guide/current/scoring-theory.html)\n",
    "\n",
    "Knowing that, how then can you affect the ordering of search results?\n",
    "\n",
    "As you've learned today, there are three ways to improve a model that is predicting something based on weights: modify the way you interpret the variables, provide additional variables, or shift the weights themselves. All of them contribute in different ways to change the model, and each time you make a change, you need to think about how that changes the interpretation of the model."
   ]
  },
  {
   "cell_type": "markdown",
   "metadata": {},
   "source": [
    "## Additional Resources"
   ]
  },
  {
   "cell_type": "markdown",
   "metadata": {},
   "source": []
  }
 ],
 "metadata": {
  "anaconda-cloud": {},
  "kernelspec": {
   "display_name": "Python [default]",
   "language": "python",
   "name": "python3"
  },
  "language_info": {
   "codemirror_mode": {
    "name": "ipython",
    "version": 3
   },
   "file_extension": ".py",
   "mimetype": "text/x-python",
   "name": "python",
   "nbconvert_exporter": "python",
   "pygments_lexer": "ipython3",
   "version": "3.5.2"
  }
 },
 "nbformat": 4,
 "nbformat_minor": 1
}
